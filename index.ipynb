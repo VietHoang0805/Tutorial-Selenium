{
 "cells": [
  {
   "cell_type": "code",
   "execution_count": 3,
   "metadata": {},
   "outputs": [
    {
     "name": "stdout",
     "output_type": "stream",
     "text": [
      "Dữ liệu đã được trích xuất và lưu vào vocab_scraping.json\n"
     ]
    }
   ],
   "source": [
    "import json\n",
    "\n",
    "# Đọc dữ liệu từ file vocab_frequency_new.json\n",
    "with open('vocab_frequency_new.json', 'r', encoding='utf-8') as file:\n",
    "    data = json.load(file)\n",
    "\n",
    "# Tạo danh sách mới với định dạng yêu cầu\n",
    "formatted_data = [\n",
    "    {\n",
    "        \"title\": value,\n",
    "        \"category1\": \"Danh từ\",\n",
    "        \"category2\": \"Động từ\",\n",
    "        \"category3\": \"Tính từ\",\n",
    "    } for key, value in data.items()\n",
    "]\n",
    "\n",
    "# Ghi dữ liệu đã định dạng vào file vocab_scraping.json\n",
    "with open('vocab_scraping.json', 'w', encoding='utf-8') as file:\n",
    "    json.dump(formatted_data, file, ensure_ascii=False, indent=4)\n",
    "\n",
    "print(\"Dữ liệu đã được trích xuất và lưu vào vocab_scraping.json\")\n"
   ]
  }
 ],
 "metadata": {
  "kernelspec": {
   "display_name": "tf",
   "language": "python",
   "name": "python3"
  },
  "language_info": {
   "codemirror_mode": {
    "name": "ipython",
    "version": 3
   },
   "file_extension": ".py",
   "mimetype": "text/x-python",
   "name": "python",
   "nbconvert_exporter": "python",
   "pygments_lexer": "ipython3",
   "version": "3.9.18"
  }
 },
 "nbformat": 4,
 "nbformat_minor": 2
}
