{
 "cells": [
  {
   "cell_type": "code",
   "execution_count": 51,
   "metadata": {},
   "outputs": [],
   "source": [
    "from selenium import webdriver\n",
    "from selenium.webdriver.common.by import By\n",
    "from time import sleep\n",
    "\n",
    "import pandas as pd"
   ]
  },
  {
   "cell_type": "code",
   "execution_count": 3,
   "metadata": {},
   "outputs": [
    {
     "name": "stdout",
     "output_type": "stream",
     "text": [
      "Dữ liệu đã được trích xuất và lưu vào vocab_scraping.json\n"
     ]
    }
   ],
   "source": [
    "import json\n",
    "\n",
    "# Đọc dữ liệu từ file vocab_frequency_new.json\n",
    "with open('vocab_frequency_new.json', 'r', encoding='utf-8') as file:\n",
    "    data = json.load(file)\n",
    "\n",
    "# Tạo danh sách mới với định dạng yêu cầu\n",
    "formatted_data = [\n",
    "    {\n",
    "        \"title\": value,\n",
    "        \"category1\": \"Danh từ\",\n",
    "        \"category2\": \"Động từ\",\n",
    "        \"category3\": \"Tính từ\",\n",
    "    } for key, value in data.items()\n",
    "]\n",
    "\n",
    "# Ghi dữ liệu đã định dạng vào file vocab_scraping.json\n",
    "with open('vocab_scraping.json', 'w', encoding='utf-8') as file:\n",
    "    json.dump(formatted_data, file, ensure_ascii=False, indent=4)\n",
    "\n",
    "print(\"Dữ liệu đã được trích xuất và lưu vào vocab_scraping.json\")\n"
   ]
  },
  {
   "cell_type": "code",
   "execution_count": null,
   "metadata": {},
   "outputs": [],
   "source": [
    "products = []\n",
    "for i in range(10):\n",
    "    print('Scraping page', i+1)\n",
    "    product = browser.find_elements(By.XPATH, \"//span[@class='a-size-medium a-color-base a-text-normal']\")\n",
    "    for p in product:\n",
    "        products.append(p.text)\n",
    "    next_button = browser.find_element(By.XPATH, \"//a[text()='Next']\")\n",
    "    next_button.click()\n",
    "    sleep(2)"
   ]
  },
  {
   "cell_type": "markdown",
   "metadata": {},
   "source": [
    "# Test"
   ]
  },
  {
   "cell_type": "code",
   "execution_count": 32,
   "metadata": {},
   "outputs": [
    {
     "name": "stdout",
     "output_type": "stream",
     "text": [
      "Danh từ  \n"
     ]
    }
   ],
   "source": [
    "# Test\n",
    "browser = webdriver.Chrome()\n",
    "url = \"http://tratu.soha.vn/dict/vn_vn/Qu%C3%A2n_trang\"\n",
    "browser.get(url)\n",
    "\n",
    "elements = browser.find_elements(By.XPATH, \"//h3/span[@class='mw-headline']\")\n",
    "\n",
    "# Lấy text của tất cả các phần tử và in ra\n",
    "for element in elements:\n",
    "    text = element.text\n",
    "    print(text)\n"
   ]
  },
  {
   "cell_type": "markdown",
   "metadata": {},
   "source": [
    "# Code chính"
   ]
  },
  {
   "cell_type": "code",
   "execution_count": 57,
   "metadata": {},
   "outputs": [],
   "source": [
    "# Import thư viện\n",
    "from selenium import webdriver\n",
    "from selenium.webdriver.common.by import By\n",
    "from time import sleep\n",
    "\n",
    "import pandas as pd\n",
    "import json\n"
   ]
  },
  {
   "cell_type": "markdown",
   "metadata": {},
   "source": [
    "# Code cũ"
   ]
  },
  {
   "cell_type": "code",
   "execution_count": 61,
   "metadata": {},
   "outputs": [
    {
     "name": "stdout",
     "output_type": "stream",
     "text": [
      "Results for 'có thể': [\"category6: 'Phụ từ'\"]\n",
      "--------------------\n",
      "Results for 'thực hiện': [\"category2: 'Động từ'\"]\n",
      "--------------------\n",
      "Results for 'tổ chức': [\"category2: 'Động từ'\", \"category1: 'Danh từ'\"]\n",
      "--------------------\n",
      "Final results have been saved to Vocab_scraping_official.json\n"
     ]
    }
   ],
   "source": [
    "\n",
    "# Đường dẫn tới file JSON\n",
    "json_file_path = 'vocab_scraping.json'\n",
    "output_json_file_path = 'Vocab_scraping_official.json'\n",
    "\n",
    "# Định nghĩa các danh mục từ loại\n",
    "categories_mapping = {\n",
    "    \"Danh từ\": \"category1: 'Danh từ'\",\n",
    "    \"Động từ\": \"category2: 'Động từ'\",\n",
    "    \"Tính từ\": \"category3: 'Tính từ'\",\n",
    "    \"Số từ\": \"category4: 'Số từ'\",\n",
    "    \"Lượng từ\": \"category5: 'Lượng từ'\",\n",
    "    \"Phụ từ\": \"category6: 'Phụ từ'\",\n",
    "    \"Đại từ\": \"category7: 'Đại từ'\"\n",
    "}\n",
    "# Đọc dữ liệu từ file JSON\n",
    "with open(json_file_path, 'r', encoding='utf-8') as file:\n",
    "    vocab_data = json.load(file)\n",
    "\n",
    "# Khởi tạo WebDriver với chế độ ẩn\n",
    "# chrome_options = Options()\n",
    "# chrome_options.add_argument(\"--headless\")  # Chạy Chrome ở chế độ ẩn (không hiển thị cửa sổ trình duyệt)\n",
    "# browser = webdriver.Chrome(options=chrome_options)\n",
    "\n",
    "# Khởi tạo WebDriver (giả sử bạn đang dùng Chrome), nếu như cần chạy hiện rõ trình duyệt thì chạy code ở dưới\n",
    "browser = webdriver.Chrome()\n",
    "\n",
    "# URL của trang web\n",
    "url = \"http://tratu.soha.vn/dict/vn_vn/\"\n",
    "browser.get(url)\n",
    "\n",
    "# Khởi tạo danh sách kết quả\n",
    "results = []\n",
    "\n",
    "# Thực hiện tìm kiếm cho từng từ trong file JSON\n",
    "for key, word in json.load(open(json_file_path, 'r', encoding='utf-8')).items():\n",
    "    # Lấy lại các phần tử input và button trước mỗi lần tìm kiếm\n",
    "    input_search = browser.find_element(By.ID, 'search')\n",
    "    search_button = browser.find_element(By.ID, 'btnSearch')\n",
    "    \n",
    "    # Clear the input field\n",
    "    input_search.clear()\n",
    "    \n",
    "    # Send the input to the webpage\n",
    "    input_search.send_keys(word)\n",
    "    sleep(1)\n",
    "    search_button.click()\n",
    "    \n",
    "    # Scrap the data\n",
    "    elements = browser.find_elements(By.XPATH, \"//h3/span[@class='mw-headline']\")\n",
    "    \n",
    "    # Lấy text của tất cả các phần tử và in ra\n",
    "    word_categories = []\n",
    "    for element in elements:\n",
    "        text = element.text.strip()\n",
    "        if text in categories_mapping:\n",
    "            word_categories.append(categories_mapping[text])\n",
    "    \n",
    "    # Tạo đối tượng kết quả và thêm vào danh sách\n",
    "    result = {\n",
    "        \"title\": word,\n",
    "        \"categories\": word_categories\n",
    "    }\n",
    "    results.append(result)\n",
    "    \n",
    "    # Lưu kết quả vào file JSON ngay sau khi tìm kiếm mỗi từ\n",
    "    with open(output_json_file_path, 'w', encoding='utf-8') as outfile:\n",
    "        json.dump(results, outfile, ensure_ascii=False, indent=4)\n",
    "    \n",
    "    print(f\"Results for '{word}': {word_categories}\")\n",
    "    print('-' * 20)\n",
    "    \n",
    "    # Đợi một chút trước khi thực hiện tìm kiếm từ tiếp theo (tùy chọn)\n",
    "    sleep(2)\n",
    "\n",
    "# Đóng trình duyệt\n",
    "browser.quit()\n",
    "\n",
    "print(f\"Final results have been saved to {output_json_file_path}\")"
   ]
  }
 ],
 "metadata": {
  "kernelspec": {
   "display_name": "tf",
   "language": "python",
   "name": "python3"
  },
  "language_info": {
   "codemirror_mode": {
    "name": "ipython",
    "version": 3
   },
   "file_extension": ".py",
   "mimetype": "text/x-python",
   "name": "python",
   "nbconvert_exporter": "python",
   "pygments_lexer": "ipython3",
   "version": "3.9.18"
  }
 },
 "nbformat": 4,
 "nbformat_minor": 2
}
